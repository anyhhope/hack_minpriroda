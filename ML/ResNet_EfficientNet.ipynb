{
 "cells": [
  {
   "cell_type": "markdown",
   "metadata": {
    "execution": {
     "iopub.execute_input": "2024-05-18T18:56:48.520715Z",
     "iopub.status.busy": "2024-05-18T18:56:48.519656Z",
     "iopub.status.idle": "2024-05-18T18:56:58.019122Z",
     "shell.execute_reply": "2024-05-18T18:56:58.017992Z",
     "shell.execute_reply.started": "2024-05-18T18:56:48.520657Z"
    },
    "tags": []
   },
   "source": [
    "# Обучение ResNet и EfficientNet"
   ]
  },
  {
   "cell_type": "code",
   "execution_count": null,
   "metadata": {},
   "outputs": [],
   "source": [
    "import pandas as pd\n",
    "import numpy as np\n",
    "\n",
    "import seaborn as sns\n",
    "from matplotlib import pyplot as plt\n",
    "\n",
    "from sklearn.model_selection import train_test_split\n",
    "from sklearn.metrics import accuracy_score\n",
    "from sklearn.preprocessing import OneHotEncoder\n",
    "from PIL import Image\n",
    "\n",
    "from torch.utils.data import TensorDataset, DataLoader, Dataset\n",
    "import torch\n",
    "from torch import nn\n",
    "from torch.nn import functional as F\n",
    "import os\n",
    "\n",
    "from tqdm.notebook import tqdm\n",
    "\n",
    "from torchvision import datasets, models, transforms\n",
    "from efficientnet_pytorch import EfficientNet\n",
    "\n",
    "import warnings\n",
    "warnings.filterwarnings(\"ignore\")"
   ]
  },
  {
   "cell_type": "markdown",
   "metadata": {},
   "source": [
    "## Подготовка данных"
   ]
  },
  {
   "cell_type": "code",
   "execution_count": 2,
   "metadata": {
    "execution": {
     "iopub.execute_input": "2024-05-18T18:56:58.022130Z",
     "iopub.status.busy": "2024-05-18T18:56:58.020917Z",
     "iopub.status.idle": "2024-05-18T18:56:58.042007Z",
     "shell.execute_reply": "2024-05-18T18:56:58.040874Z",
     "shell.execute_reply.started": "2024-05-18T18:56:58.022093Z"
    },
    "tags": []
   },
   "outputs": [],
   "source": [
    "import os\n",
    "from torch.utils.data import Dataset\n",
    "from PIL import Image\n",
    "from sklearn.model_selection import train_test_split\n",
    "\n",
    "class MyDataset(Dataset):\n",
    "    def __init__(self, root_dir, transform=None, split='train', val_size=0.2, test_size=0.2, random_state=42):\n",
    "        self.root_dir = root_dir\n",
    "        self.transform = transform\n",
    "        self.split = split\n",
    "        self.val_size = val_size\n",
    "        self.test_size = test_size\n",
    "        self.random_state = random_state\n",
    "        self.images = []\n",
    "        self.labels = []\n",
    "        self.class_names = sorted(os.listdir(root_dir))\n",
    "        \n",
    "        for i, class_name in enumerate(self.class_names):\n",
    "            class_dir = os.path.join(root_dir, class_name)\n",
    "            class_images = [os.path.join(class_dir, file_name) for file_name in os.listdir(class_dir) if file_name.endswith('.jpg') or file_name.endswith('.png')]\n",
    "            class_labels = [i] * len(class_images)\n",
    "            self.images.extend(class_images)\n",
    "            self.labels.extend(class_labels)\n",
    "        \n",
    "        self.images, self.labels = self.split_data(self.images, self.labels)\n",
    "\n",
    "    def split_data(self, images, labels):\n",
    "        train_images, tmp_images, train_labels, tmp_labels = train_test_split(images, labels, test_size=self.val_size+self.test_size, random_state=self.random_state)\n",
    "        val_images, test_images, val_labels, test_labels = train_test_split(tmp_images, tmp_labels, test_size=self.test_size/(self.val_size+self.test_size), random_state=self.random_state)\n",
    "        \n",
    "        if self.split == 'train':\n",
    "            return train_images, train_labels\n",
    "        elif self.split == 'val':\n",
    "            return val_images, val_labels\n",
    "        else:\n",
    "            return test_images, test_labels\n",
    "\n",
    "    def __len__(self):\n",
    "        return len(self.images)\n",
    "\n",
    "    def __getitem__(self, idx):\n",
    "        image_path = self.images[idx]\n",
    "        image = Image.open(image_path).convert('RGB')\n",
    "        label = self.labels[idx] - 1\n",
    "        \n",
    "        if self.transform:\n",
    "            image = self.transform(image)\n",
    "        \n",
    "        return image, label\n"
   ]
  },
  {
   "cell_type": "code",
   "execution_count": 3,
   "metadata": {
    "execution": {
     "iopub.execute_input": "2024-05-18T18:56:58.045300Z",
     "iopub.status.busy": "2024-05-18T18:56:58.044140Z",
     "iopub.status.idle": "2024-05-18T18:56:58.059238Z",
     "shell.execute_reply": "2024-05-18T18:56:58.058070Z",
     "shell.execute_reply.started": "2024-05-18T18:56:58.045223Z"
    },
    "tags": []
   },
   "outputs": [],
   "source": [
    "data_transforms = transforms.Compose([\n",
    "    transforms.ToTensor(),\n",
    "    transforms.Resize((224, 224)),\n",
    "])"
   ]
  },
  {
   "cell_type": "code",
   "execution_count": 4,
   "metadata": {
    "execution": {
     "iopub.execute_input": "2024-05-18T18:56:58.062515Z",
     "iopub.status.busy": "2024-05-18T18:56:58.061184Z",
     "iopub.status.idle": "2024-05-18T18:56:58.279817Z",
     "shell.execute_reply": "2024-05-18T18:56:58.278634Z",
     "shell.execute_reply.started": "2024-05-18T18:56:58.062460Z"
    },
    "tags": []
   },
   "outputs": [],
   "source": [
    "train_dataset = MyDataset('/home/jupyter/datasphere/project/dataset_crop/train', transform=data_transforms, split='train', val_size=0.2, test_size=0.2, random_state=42)\n",
    "val_dataset = MyDataset('/home/jupyter/datasphere/project/dataset_crop/train', transform=data_transforms, split='val', val_size=0.2, test_size=0.2, random_state=42)\n",
    "test_dataset = MyDataset('/home/jupyter/datasphere/project/dataset_crop/train', transform=data_transforms, split='test', val_size=0.2, test_size=0.2, random_state=42)\n"
   ]
  },
  {
   "cell_type": "code",
   "execution_count": 5,
   "metadata": {
    "execution": {
     "iopub.execute_input": "2024-05-18T18:56:58.281697Z",
     "iopub.status.busy": "2024-05-18T18:56:58.281125Z",
     "iopub.status.idle": "2024-05-18T18:56:58.295535Z",
     "shell.execute_reply": "2024-05-18T18:56:58.294455Z",
     "shell.execute_reply.started": "2024-05-18T18:56:58.281652Z"
    },
    "tags": []
   },
   "outputs": [],
   "source": [
    "dataloaders = {}\n",
    "dataloaders['train'] = DataLoader(train_dataset, batch_size=16,\n",
    "                                  shuffle=True)\n",
    "dataloaders['valid'] = DataLoader(val_dataset, batch_size=128,\n",
    "                                  shuffle=False)\n",
    "dataloaders['test'] = DataLoader(test_dataset, batch_size=128,\n",
    "                                 shuffle=False)"
   ]
  },
  {
   "cell_type": "code",
   "execution_count": 10,
   "metadata": {
    "execution": {
     "iopub.execute_input": "2024-05-18T18:58:02.074822Z",
     "iopub.status.busy": "2024-05-18T18:58:02.073755Z",
     "iopub.status.idle": "2024-05-18T18:58:02.096037Z",
     "shell.execute_reply": "2024-05-18T18:58:02.094974Z",
     "shell.execute_reply.started": "2024-05-18T18:58:02.074766Z"
    },
    "tags": []
   },
   "outputs": [],
   "source": [
    "def train(model, loaders, criterion, optimizer, scheduler, epochs=100):\n",
    "    device = \"cuda:0\" if torch.cuda.is_available() else \"cpu\"\n",
    "    metrics = {\"train\": [], \"valid\": []}\n",
    "    losses = {\"train\": [], \"valid\": []}\n",
    "    model.to(device)\n",
    "    for epoch in range(epochs):\n",
    "        print(f\"Epoch: {epoch+1}\")\n",
    "\n",
    "        for k, dataloader in loaders.items():\n",
    "            loss_batch = []\n",
    "            run_loss, run_metric, all, count = 0, 0, 0, 0\n",
    "\n",
    "            for x_batch, y_batch in tqdm(dataloader):\n",
    "                x_batch = x_batch.to(device)\n",
    "                y_batch = y_batch.long().to(device)\n",
    "                if k == \"train\":\n",
    "                    model.train()\n",
    "                    optimizer.zero_grad()\n",
    "                    outp = model(x_batch)\n",
    "                    loss = criterion(outp, y_batch)\n",
    "                    loss.backward()\n",
    "                    loss_batch.append(loss.item())\n",
    "                    optimizer.step()\n",
    "                else:\n",
    "                    model.eval()\n",
    "                    with torch.no_grad():\n",
    "                        outp = model(x_batch)\n",
    "                        loss = criterion(outp, y_batch)\n",
    "                        loss_batch.append(loss.item())\n",
    "\n",
    "                run_loss += loss.item()\n",
    "                run_metric += (outp.argmax(1) == y_batch).sum().item()\n",
    "                all += y_batch.shape[0]\n",
    "                count += 1\n",
    "\n",
    "            epoch_loss = run_loss / count\n",
    "            epoch_metric = run_metric / all\n",
    "\n",
    "            metrics[k].append(epoch_metric)\n",
    "            losses[k].append(epoch_loss)\n",
    "\n",
    "            print(f\"Loader: {k:<10}Accuracy: {epoch_metric:<20}Loss: {epoch_loss:<20}\")\n",
    "\n",
    "    return metrics, losses"
   ]
  },
  {
   "cell_type": "markdown",
   "metadata": {},
   "source": [
    "## Обучение моделей "
   ]
  },
  {
   "cell_type": "code",
   "execution_count": 18,
   "metadata": {
    "execution": {
     "iopub.execute_input": "2024-05-18T19:43:22.621575Z",
     "iopub.status.busy": "2024-05-18T19:43:22.620669Z",
     "iopub.status.idle": "2024-05-18T19:43:34.864457Z",
     "shell.execute_reply": "2024-05-18T19:43:34.863377Z",
     "shell.execute_reply.started": "2024-05-18T19:43:22.621538Z"
    },
    "tags": []
   },
   "outputs": [
    {
     "name": "stderr",
     "output_type": "stream",
     "text": [
      "Downloading: \"https://github.com/lukemelas/EfficientNet-PyTorch/releases/download/1.0/efficientnet-b7-dcc49843.pth\" to /tmp/xdg_cache/torch/hub/checkpoints/efficientnet-b7-dcc49843.pth\n",
      "100%|██████████| 254M/254M [00:07<00:00, 38.0MB/s] \n"
     ]
    },
    {
     "name": "stdout",
     "output_type": "stream",
     "text": [
      "Loaded pretrained weights for efficientnet-b7\n"
     ]
    }
   ],
   "source": [
    "model = EfficientNet.from_pretrained(f'efficientnet-b7')\n",
    "\n",
    "model._fc = nn.Sequential(\n",
    "    nn.Linear(model._fc.in_features, 3),\n",
    ")\n",
    "\n",
    "device = torch.device(\"cuda:0\" if torch.cuda.is_available() else \"cpu\")\n",
    "model = model.to(device)"
   ]
  },
  {
   "cell_type": "code",
   "execution_count": 11,
   "metadata": {
    "execution": {
     "iopub.execute_input": "2024-05-18T18:58:09.772454Z",
     "iopub.status.busy": "2024-05-18T18:58:09.771455Z",
     "iopub.status.idle": "2024-05-18T18:58:11.631326Z",
     "shell.execute_reply": "2024-05-18T18:58:11.630200Z",
     "shell.execute_reply.started": "2024-05-18T18:58:09.772396Z"
    },
    "tags": []
   },
   "outputs": [],
   "source": [
    "model = models.resnet152(pretrained=True)\n",
    "\n",
    "for param in model.parameters():\n",
    "    param.requires_grad = False\n",
    "\n",
    "model.fc = nn.Sequential(\n",
    "    nn.Linear(model.fc.in_features, 3),\n",
    "\n",
    ")\n",
    "\n",
    "device = torch.device(\"cuda:0\" if torch.cuda.is_available() else \"cpu\")\n",
    "model = model.to(device)"
   ]
  },
  {
   "cell_type": "code",
   "execution_count": 19,
   "metadata": {
    "execution": {
     "iopub.execute_input": "2024-05-18T19:43:38.755649Z",
     "iopub.status.busy": "2024-05-18T19:43:38.754681Z",
     "iopub.status.idle": "2024-05-18T19:43:38.776471Z",
     "shell.execute_reply": "2024-05-18T19:43:38.775477Z",
     "shell.execute_reply.started": "2024-05-18T19:43:38.755590Z"
    },
    "tags": []
   },
   "outputs": [],
   "source": [
    "criterion = nn.CrossEntropyLoss()\n",
    "optimizer = torch.optim.Adam(model.parameters(), lr=0.001)\n",
    "\n",
    "scheduler = torch.optim.lr_scheduler.StepLR(optimizer, step_size=7, gamma=0.1)\n",
    "\n",
    "loaders = {\"train\": dataloaders['train'], 'valid': dataloaders['valid']}"
   ]
  },
  {
   "cell_type": "code",
   "execution_count": 20,
   "metadata": {
    "execution": {
     "iopub.execute_input": "2024-05-18T19:43:39.988800Z",
     "iopub.status.busy": "2024-05-18T19:43:39.987715Z",
     "iopub.status.idle": "2024-05-18T20:40:23.528754Z",
     "shell.execute_reply": "2024-05-18T20:40:23.527653Z",
     "shell.execute_reply.started": "2024-05-18T19:43:39.988741Z"
    },
    "tags": []
   },
   "outputs": [
    {
     "name": "stdout",
     "output_type": "stream",
     "text": [
      "Epoch: 1\n"
     ]
    },
    {
     "data": {
      "application/vnd.jupyter.widget-view+json": {
       "model_id": "556c4b24b58a469e984bee501ef22f8c",
       "version_major": 2,
       "version_minor": 0
      },
      "text/plain": [
       "  0%|          | 0/599 [00:00<?, ?it/s]"
      ]
     },
     "metadata": {},
     "output_type": "display_data"
    },
    {
     "name": "stdout",
     "output_type": "stream",
     "text": [
      "Loader: train     Accuracy: 0.7862061769616027  Loss: 0.5841254927280152  \n"
     ]
    },
    {
     "data": {
      "application/vnd.jupyter.widget-view+json": {
       "model_id": "4eaa5f4a842a4fe78ea3cbaedd55f2c3",
       "version_major": 2,
       "version_minor": 0
      },
      "text/plain": [
       "  0%|          | 0/25 [00:00<?, ?it/s]"
      ]
     },
     "metadata": {},
     "output_type": "display_data"
    },
    {
     "name": "stdout",
     "output_type": "stream",
     "text": [
      "Loader: valid     Accuracy: 0.8128325508607199  Loss: 0.5355845212936401  \n",
      "Epoch: 2\n"
     ]
    },
    {
     "data": {
      "application/vnd.jupyter.widget-view+json": {
       "model_id": "b8dba0443d8b43d78a38e3ea393819b6",
       "version_major": 2,
       "version_minor": 0
      },
      "text/plain": [
       "  0%|          | 0/599 [00:00<?, ?it/s]"
      ]
     },
     "metadata": {},
     "output_type": "display_data"
    },
    {
     "name": "stdout",
     "output_type": "stream",
     "text": [
      "Loader: train     Accuracy: 0.8368113522537562  Loss: 0.4688576224053244  \n"
     ]
    },
    {
     "data": {
      "application/vnd.jupyter.widget-view+json": {
       "model_id": "2325d86f421d4ec8a54525c0e8613dcc",
       "version_major": 2,
       "version_minor": 0
      },
      "text/plain": [
       "  0%|          | 0/25 [00:00<?, ?it/s]"
      ]
     },
     "metadata": {},
     "output_type": "display_data"
    },
    {
     "name": "stdout",
     "output_type": "stream",
     "text": [
      "Loader: valid     Accuracy: 0.8557120500782472  Loss: 0.4444792032241821  \n",
      "Epoch: 3\n"
     ]
    },
    {
     "data": {
      "application/vnd.jupyter.widget-view+json": {
       "model_id": "14101085b36448fabd80422407881ffc",
       "version_major": 2,
       "version_minor": 0
      },
      "text/plain": [
       "  0%|          | 0/599 [00:00<?, ?it/s]"
      ]
     },
     "metadata": {},
     "output_type": "display_data"
    },
    {
     "name": "stdout",
     "output_type": "stream",
     "text": [
      "Loader: train     Accuracy: 0.8582011686143572  Loss: 0.4158546630734693  \n"
     ]
    },
    {
     "data": {
      "application/vnd.jupyter.widget-view+json": {
       "model_id": "189b6a238c894df0a1fa86b18149fb8b",
       "version_major": 2,
       "version_minor": 0
      },
      "text/plain": [
       "  0%|          | 0/25 [00:00<?, ?it/s]"
      ]
     },
     "metadata": {},
     "output_type": "display_data"
    },
    {
     "name": "stdout",
     "output_type": "stream",
     "text": [
      "Loader: valid     Accuracy: 0.860093896713615   Loss: 0.40644989013671873 \n",
      "Epoch: 4\n"
     ]
    },
    {
     "data": {
      "application/vnd.jupyter.widget-view+json": {
       "model_id": "8168160fb42043b9ae69b11f391f77e0",
       "version_major": 2,
       "version_minor": 0
      },
      "text/plain": [
       "  0%|          | 0/599 [00:00<?, ?it/s]"
      ]
     },
     "metadata": {},
     "output_type": "display_data"
    },
    {
     "name": "stdout",
     "output_type": "stream",
     "text": [
      "Loader: train     Accuracy: 0.8755217028380634  Loss: 0.36990622848968874 \n"
     ]
    },
    {
     "data": {
      "application/vnd.jupyter.widget-view+json": {
       "model_id": "cd0acb1a83f5422f9f1aedf412df4e67",
       "version_major": 2,
       "version_minor": 0
      },
      "text/plain": [
       "  0%|          | 0/25 [00:00<?, ?it/s]"
      ]
     },
     "metadata": {},
     "output_type": "display_data"
    },
    {
     "name": "stdout",
     "output_type": "stream",
     "text": [
      "Loader: valid     Accuracy: 0.8610328638497653  Loss: 0.4468469226360321  \n",
      "Epoch: 5\n"
     ]
    },
    {
     "data": {
      "application/vnd.jupyter.widget-view+json": {
       "model_id": "1f3fa440a046462ab97b1ca906cfe6a1",
       "version_major": 2,
       "version_minor": 0
      },
      "text/plain": [
       "  0%|          | 0/599 [00:00<?, ?it/s]"
      ]
     },
     "metadata": {},
     "output_type": "display_data"
    },
    {
     "name": "stdout",
     "output_type": "stream",
     "text": [
      "Loader: train     Accuracy: 0.8891903171953256  Loss: 0.3242483669285583  \n"
     ]
    },
    {
     "data": {
      "application/vnd.jupyter.widget-view+json": {
       "model_id": "92f14c51dde1419a9db605a96872213a",
       "version_major": 2,
       "version_minor": 0
      },
      "text/plain": [
       "  0%|          | 0/25 [00:00<?, ?it/s]"
      ]
     },
     "metadata": {},
     "output_type": "display_data"
    },
    {
     "name": "stdout",
     "output_type": "stream",
     "text": [
      "Loader: valid     Accuracy: 0.8453834115805947  Loss: 0.4580258715152741  \n",
      "Epoch: 6\n"
     ]
    },
    {
     "data": {
      "application/vnd.jupyter.widget-view+json": {
       "model_id": "c34ce6b569e3433893b45d58a2fe9a7b",
       "version_major": 2,
       "version_minor": 0
      },
      "text/plain": [
       "  0%|          | 0/599 [00:00<?, ?it/s]"
      ]
     },
     "metadata": {},
     "output_type": "display_data"
    },
    {
     "name": "stdout",
     "output_type": "stream",
     "text": [
      "Loader: train     Accuracy: 0.9079716193656093  Loss: 0.2723768296059165  \n"
     ]
    },
    {
     "data": {
      "application/vnd.jupyter.widget-view+json": {
       "model_id": "9f62d1cd9af143e4b2260d43f805f9f8",
       "version_major": 2,
       "version_minor": 0
      },
      "text/plain": [
       "  0%|          | 0/25 [00:00<?, ?it/s]"
      ]
     },
     "metadata": {},
     "output_type": "display_data"
    },
    {
     "name": "stdout",
     "output_type": "stream",
     "text": [
      "Loader: valid     Accuracy: 0.8697965571205007  Loss: 0.41557629346847536 \n",
      "Epoch: 7\n"
     ]
    },
    {
     "data": {
      "application/vnd.jupyter.widget-view+json": {
       "model_id": "311946d931ec4d1ab86a0f8309abc102",
       "version_major": 2,
       "version_minor": 0
      },
      "text/plain": [
       "  0%|          | 0/599 [00:00<?, ?it/s]"
      ]
     },
     "metadata": {},
     "output_type": "display_data"
    },
    {
     "name": "stdout",
     "output_type": "stream",
     "text": [
      "Loader: train     Accuracy: 0.9148580968280468  Loss: 0.24362208780355266 \n"
     ]
    },
    {
     "data": {
      "application/vnd.jupyter.widget-view+json": {
       "model_id": "04d2c899c29640cb9e3c14ed08628a83",
       "version_major": 2,
       "version_minor": 0
      },
      "text/plain": [
       "  0%|          | 0/25 [00:00<?, ?it/s]"
      ]
     },
     "metadata": {},
     "output_type": "display_data"
    },
    {
     "name": "stdout",
     "output_type": "stream",
     "text": [
      "Loader: valid     Accuracy: 0.8575899843505478  Loss: 0.5321127510070801  \n",
      "Epoch: 8\n"
     ]
    },
    {
     "data": {
      "application/vnd.jupyter.widget-view+json": {
       "model_id": "cd35dd57b5bd4d76ac535de62f107ce7",
       "version_major": 2,
       "version_minor": 0
      },
      "text/plain": [
       "  0%|          | 0/599 [00:00<?, ?it/s]"
      ]
     },
     "metadata": {},
     "output_type": "display_data"
    },
    {
     "name": "stdout",
     "output_type": "stream",
     "text": [
      "Loader: train     Accuracy: 0.9233096828046744  Loss: 0.22348538369176682 \n"
     ]
    },
    {
     "data": {
      "application/vnd.jupyter.widget-view+json": {
       "model_id": "6f0a3047fdda4aac9fb01e3ee9b227af",
       "version_major": 2,
       "version_minor": 0
      },
      "text/plain": [
       "  0%|          | 0/25 [00:00<?, ?it/s]"
      ]
     },
     "metadata": {},
     "output_type": "display_data"
    },
    {
     "name": "stdout",
     "output_type": "stream",
     "text": [
      "Loader: valid     Accuracy: 0.8622848200312989  Loss: 0.4780954599380493  \n",
      "Epoch: 9\n"
     ]
    },
    {
     "data": {
      "application/vnd.jupyter.widget-view+json": {
       "model_id": "0ae121959f064b2fb6fc0ddd8c143efa",
       "version_major": 2,
       "version_minor": 0
      },
      "text/plain": [
       "  0%|          | 0/599 [00:00<?, ?it/s]"
      ]
     },
     "metadata": {},
     "output_type": "display_data"
    },
    {
     "name": "stdout",
     "output_type": "stream",
     "text": [
      "Loader: train     Accuracy: 0.9400041736227045  Loss: 0.17742728693908288 \n"
     ]
    },
    {
     "data": {
      "application/vnd.jupyter.widget-view+json": {
       "model_id": "0d608e85151642a888abeb94e88490d9",
       "version_major": 2,
       "version_minor": 0
      },
      "text/plain": [
       "  0%|          | 0/25 [00:00<?, ?it/s]"
      ]
     },
     "metadata": {},
     "output_type": "display_data"
    },
    {
     "name": "stdout",
     "output_type": "stream",
     "text": [
      "Loader: valid     Accuracy: 0.8591549295774648  Loss: 0.5125101041793824  \n",
      "Epoch: 10\n"
     ]
    },
    {
     "data": {
      "application/vnd.jupyter.widget-view+json": {
       "model_id": "f3a9cae956fb49fa8b8d771d36bcb2e3",
       "version_major": 2,
       "version_minor": 0
      },
      "text/plain": [
       "  0%|          | 0/599 [00:00<?, ?it/s]"
      ]
     },
     "metadata": {},
     "output_type": "display_data"
    },
    {
     "name": "stdout",
     "output_type": "stream",
     "text": [
      "Loader: train     Accuracy: 0.9479340567612687  Loss: 0.15707936987221763 \n"
     ]
    },
    {
     "data": {
      "application/vnd.jupyter.widget-view+json": {
       "model_id": "70c8c392471940a4b0ae8a46f2c81cbb",
       "version_major": 2,
       "version_minor": 0
      },
      "text/plain": [
       "  0%|          | 0/25 [00:00<?, ?it/s]"
      ]
     },
     "metadata": {},
     "output_type": "display_data"
    },
    {
     "name": "stdout",
     "output_type": "stream",
     "text": [
      "Loader: valid     Accuracy: 0.8435054773082942  Loss: 0.6569067454338073  \n"
     ]
    }
   ],
   "source": [
    "metrics, losses = train(model, loaders, criterion, optimizer, scheduler, 10)"
   ]
  },
  {
   "cell_type": "code",
   "execution_count": 21,
   "metadata": {
    "execution": {
     "iopub.execute_input": "2024-05-18T20:40:32.914601Z",
     "iopub.status.busy": "2024-05-18T20:40:32.913404Z",
     "iopub.status.idle": "2024-05-18T20:40:33.383Z",
     "shell.execute_reply": "2024-05-18T20:40:33.381691Z",
     "shell.execute_reply.started": "2024-05-18T20:40:32.914544Z"
    },
    "tags": []
   },
   "outputs": [
    {
     "data": {
      "text/plain": [
       "<Figure size 864x576 with 0 Axes>"
      ]
     },
     "metadata": {},
     "output_type": "display_data"
    },
    {
     "data": {
      "image/png": "[encoded data removed]",
      "text/plain": [
       "<Figure size 1440x504 with 2 Axes>"
      ]
     },
     "metadata": {
      "needs_background": "light"
     },
     "output_type": "display_data"
    }
   ],
   "source": [
    "plt.figure(figsize=(12, 8))\n",
    "plt.figure(figsize=(20, 7))\n",
    "plt.subplot(1, 2, 1)\n",
    "plt.plot(range(len(losses['train'])), losses['train'], label='train')\n",
    "plt.plot(range(len(losses['valid'])), losses['valid'], label='test')\n",
    "plt.xlabel('Epochs')\n",
    "plt.ylabel(\"Loss\")\n",
    "plt.legend()\n",
    "plt.subplot(1, 2, 2)\n",
    "plt.plot(range(len(metrics['train'])), metrics['train'], label='train')\n",
    "plt.plot(range(len(metrics['valid'])), metrics['valid'], label='test')\n",
    "plt.xlabel('Epochs')\n",
    "plt.ylabel(\"Accuracy\")\n",
    "plt.legend();"
   ]
  },
  {
   "cell_type": "markdown",
   "metadata": {},
   "source": [
    "## Оценка модели"
   ]
  },
  {
   "cell_type": "code",
   "execution_count": 22,
   "metadata": {
    "execution": {
     "iopub.execute_input": "2024-05-18T20:40:38.299040Z",
     "iopub.status.busy": "2024-05-18T20:40:38.297830Z",
     "iopub.status.idle": "2024-05-18T20:41:27.058638Z",
     "shell.execute_reply": "2024-05-18T20:41:27.057555Z",
     "shell.execute_reply.started": "2024-05-18T20:40:38.299000Z"
    },
    "tags": []
   },
   "outputs": [
    {
     "name": "stdout",
     "output_type": "stream",
     "text": [
      "              precision    recall  f1-score   support\n",
      "\n",
      "           0    0.79661   0.58385   0.67384       644\n",
      "           1    0.81818   0.71083   0.76074       785\n",
      "           2    0.84076   0.97169   0.90150      1766\n",
      "\n",
      "    accuracy                        0.82942      3195\n",
      "   macro avg    0.81852   0.75546   0.77869      3195\n",
      "weighted avg    0.82632   0.82942   0.82102      3195\n",
      "\n"
     ]
    }
   ],
   "source": [
    "from sklearn.metrics import classification_report\n",
    "\n",
    "y_pred, y_test = [], []\n",
    "model.eval()\n",
    "with torch.no_grad():\n",
    "    for x_batch, y_batch in dataloaders['test']:\n",
    "        x_batch = x_batch.to(device)\n",
    "        outp = model(x_batch)\n",
    "        y_pred += list(outp.cpu().numpy().argmax(1))\n",
    "        y_test += list(y_batch)\n",
    "\n",
    "print(classification_report(y_test, y_pred, digits=5))"
   ]
  },
  {
   "cell_type": "markdown",
   "metadata": {},
   "source": [
    "## Сохранение модели"
   ]
  },
  {
   "cell_type": "code",
   "execution_count": 23,
   "metadata": {
    "execution": {
     "iopub.execute_input": "2024-05-18T20:41:40.348377Z",
     "iopub.status.busy": "2024-05-18T20:41:40.347336Z",
     "iopub.status.idle": "2024-05-18T20:41:42.264673Z",
     "shell.execute_reply": "2024-05-18T20:41:42.263426Z",
     "shell.execute_reply.started": "2024-05-18T20:41:40.348321Z"
    },
    "tags": []
   },
   "outputs": [],
   "source": [
    "import torch\n",
    "\n",
    "res_output_file = './ResNet_crop_best.pth'\n",
    "torch.save(model, res_output_file)"
   ]
  },
  {
   "cell_type": "code",
   "execution_count": 50,
   "metadata": {
    "execution": {
     "iopub.execute_input": "2024-05-18T12:50:50.185844Z",
     "iopub.status.busy": "2024-05-18T12:50:50.185110Z",
     "iopub.status.idle": "2024-05-18T12:50:53.655129Z",
     "shell.execute_reply": "2024-05-18T12:50:53.653917Z",
     "shell.execute_reply.started": "2024-05-18T12:50:50.185808Z"
    },
    "tags": []
   },
   "outputs": [],
   "source": [
    "\n",
    "effic_output_file = './EfficientNet_crop_best.pth'\n",
    "torch.save(model, effic_output_file)"
   ]
  }
 ],
 "metadata": {
  "kaggle": {
   "accelerator": "nvidiaTeslaT4",
   "dataSources": [
    {
     "datasetId": 5031978,
     "sourceId": 8445508,
     "sourceType": "datasetVersion"
    }
   ],
   "dockerImageVersionId": 30698,
   "isGpuEnabled": true,
   "isInternetEnabled": true,
   "language": "python",
   "sourceType": "notebook"
  },
  "kernelspec": {
   "display_name": "DataSphere Kernel",
   "language": "python",
   "name": "python3"
  },
  "language_info": {
   "codemirror_mode": {
    "name": "ipython",
    "version": 3
   },
   "file_extension": ".py",
   "mimetype": "text/x-python",
   "name": "python",
   "nbconvert_exporter": "python",
   "pygments_lexer": "ipython3",
   "version": "3.10.12"
  }
 },
 "nbformat": 4,
 "nbformat_minor": 4
}
